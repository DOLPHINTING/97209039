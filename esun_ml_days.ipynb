{
  "nbformat": 4,
  "nbformat_minor": 0,
  "metadata": {
    "celltoolbar": "Slideshow",
    "kernelspec": {
      "display_name": "Python 3",
      "language": "python",
      "name": "python3"
    },
    "language_info": {
      "codemirror_mode": {
        "name": "ipython",
        "version": 3
      },
      "file_extension": ".py",
      "mimetype": "text/x-python",
      "name": "python",
      "nbconvert_exporter": "python",
      "pygments_lexer": "ipython3",
      "version": "3.7.6"
    },
    "colab": {
      "name": "esun_ml_days.ipynb",
      "provenance": [],
      "collapsed_sections": [],
      "include_colab_link": true
    }
  },
  "cells": [
    {
      "cell_type": "markdown",
      "metadata": {
        "id": "view-in-github",
        "colab_type": "text"
      },
      "source": [
        "<a href=\"https://colab.research.google.com/github/DOLPHINTING/97209039/blob/master/esun_ml_days.ipynb\" target=\"_parent\"><img src=\"https://colab.research.google.com/assets/colab-badge.svg\" alt=\"Open In Colab\"/></a>"
      ]
    },
    {
      "cell_type": "markdown",
      "metadata": {
        "id": "liAn49hQp5XE"
      },
      "source": [
        "\n",
        "# <font face=\"微軟正黑體\">PYTHON教育訓練: AVM估價模型</font>\n",
        "<font face=\"微軟正黑體\">\n",
        "    \n",
        "| 單元 | 使用技巧 | 學習目標 |\n",
        "|  :----  | :----  | :---- |\n",
        "|Introduction - AVM專案概述| - | 瞭解專案目的及資料欄未說明 |\n",
        "| UNIT 1 - 探索式資料分析 | 敘述統計、資料視覺化 | 能運用python對資料進行初步探索 |\n",
        "| UNIT 2 - 建模初體驗 | 基本資料處理及建立Baseline Model | 初步瞭解建模流程並快速建立第一個模型 |\n",
        "| UNIT 3 - 特徵工程 - 特徵篩選  | 用相關係數挑選因子 | 瞭解如何進行特徵篩選以提升模型精度 |\n",
        "| UNIT 4 - 特徵工程 - 特徵組合  | 用業務邏輯產生更多預測能力強的因子 | 瞭解如何運用業務邏輯組合出更多且有效的特徵 |\n",
        "| UNIT 5 - 使用進階模型 | 使用sklearn及lgbm套件建模 | 瞭解如何區分迴歸/分類模型、運用機器學習相關模型套件 |\n",
        "| UNIT 6 - 超參數調整  | Grid Search | 使用基礎的參數調整技巧來對模型精進 |\n",
        "\n",
        " </font>"
      ]
    },
    {
      "cell_type": "markdown",
      "metadata": {
        "id": "sFtCro3Tp5XF"
      },
      "source": [
        "<a id='section_00'></a>\n",
        "\n",
        "# <font face=\"微軟正黑體\">Introduction - AVM專案概述 </font>\n",
        "\n",
        "## 1.      專案目的\n",
        "\n",
        "1. 透過AVM模型可即時運算的優勢，協助優化估價流程，並於每年資產重估時進行大量運算。\n",
        "<br>\n",
        "<br>\n",
        "2. 利用機器學習演算法，提升精準度；額外使用圖資資料，除了考慮房屋本身資訊，還可判斷房屋所在位置與周邊環境，進一步提升模型成效。\n",
        "<br>\n"
      ]
    },
    {
      "cell_type": "markdown",
      "metadata": {
        "id": "vztXsriRp5XG"
      },
      "source": [
        "## 2.      專案效益\n",
        "\n",
        "1. 流程面：每一件房貸案件的估價流程可由原本2 - 3天縮短為3分鐘。\n",
        "<br>\n",
        "2. 成本面：以今年開始之資產重估，每季重估約5萬筆物件，每筆人工估價成本約1,000元，使用AVM模型預期能節省5,000萬元成本。\n",
        "<br>"
      ]
    },
    {
      "cell_type": "markdown",
      "metadata": {
        "id": "two7D110p5XG"
      },
      "source": [
        "## 3.      預測目標(Y)\n",
        "\n",
        "total_price (房屋總價)\n",
        "\n",
        " \n",
        "## 4.      資料說明\n",
        " - [資料欄位說明](https://github.com/za29517585/avm_machine_learning/raw/master/column_description.pdf)\n",
        " - 建物基本資訊 (面積、樓層、建材、所在縣市等)\n",
        " - 鄰里資訊 (所在鄰里平均學歷、收入等)\n",
        " - POI資訊 (建物周遭設施資訊)\n",
        "\n",
        " "
      ]
    },
    {
      "cell_type": "markdown",
      "metadata": {
        "id": "AmkgLxpSp5XH"
      },
      "source": [
        "## 透過這份程式檔，您將會學習到...\n",
        "\n",
        "> ### 主要目標\n",
        "> 透過一步一步執行程式來瞭解機器學習模型的建置流程\n",
        "\n",
        "- 在已知要解決什麼問題後，如何探索資料\n",
        "- 基本資料處理並透過業務知識增加模型效度\n",
        "- 如何優化模型並解讀成效"
      ]
    },
    {
      "cell_type": "markdown",
      "metadata": {
        "id": "zQA3OZfkp5XI"
      },
      "source": [
        "<a id='section_01'></a>\n",
        "# <font face=\"微軟正黑體\">UNIT 1 - 探索式資料分析 (EDA)</font>\n",
        "<font face=\"微軟正黑體\">\n",
        "<br>\n",
        "\n",
        "- <b>什麼是EDA? <br></b>\n",
        "透過敘述統計及資料視覺化來對資料進行初步分析<br /><br />\n",
        "\n",
        "- <b>EDA的目標? <br></b>\n",
        "    1.了解資料: 獲取資料的資訊、結構及特點<br>\n",
        "    2.檢查異常的資料: Outlier、空值<br>\n",
        "    3.分析變數的關聯性: 找出重要變數\n",
        "    \n",
        "    </font>"
      ]
    },
    {
      "cell_type": "markdown",
      "metadata": {
        "id": "c-D5_A7Mp5XI"
      },
      "source": [
        "## <font face=\"微軟正黑體\">1-1 數據的基本資訊及敘述統計</font>"
      ]
    },
    {
      "cell_type": "code",
      "metadata": {
        "id": "qmy-PQUBTiND"
      },
      "source": [
        "import pandas as pd\n",
        "import numpy as np"
      ],
      "execution_count": null,
      "outputs": []
    },
    {
      "cell_type": "code",
      "metadata": {
        "id": "asZqWKtmp5XJ"
      },
      "source": [
        "#匯入資料\n",
        "train_data = pd.read_csv('https://drive.google.com/uc?export=download&id=1UQPWZSdFgHyu8wOxI5zwWEMPpKQEmwH2')\n",
        "test_data = pd.read_csv('https://docs.google.com/spreadsheets/d/1FgVhq8eVU7lSV4MvIRJBKzp0E2dKk5arocZsJRyOb2g/export?format=csv')\n",
        "\n",
        "#查看資料筆數\n",
        "print(\"shape of train data:\" , train_data.shape)\n",
        "print(\"shape of test data:\" , test_data.shape)\n",
        "\n",
        "#查看表格前五筆資料\n",
        "train_data.head(5)"
      ],
      "execution_count": null,
      "outputs": []
    },
    {
      "cell_type": "code",
      "metadata": {
        "scrolled": true,
        "id": "WP_jVh7Gp5XN"
      },
      "source": [
        "#查看基礎統計數據\n",
        "train_data.describe()"
      ],
      "execution_count": null,
      "outputs": []
    },
    {
      "cell_type": "code",
      "metadata": {
        "id": "RkI6Ly_Fp5XQ"
      },
      "source": [
        "#查看各變數空值情況\n",
        "train_data.count().sort_values().head(10)"
      ],
      "execution_count": null,
      "outputs": []
    },
    {
      "cell_type": "code",
      "metadata": {
        "id": "Qp9HAOWWp5XV"
      },
      "source": [
        "#查看各城市的平均房價\n",
        "train_data.groupby(by='city').mean()['total_price'].sort_values(ascending=False)"
      ],
      "execution_count": null,
      "outputs": []
    },
    {
      "cell_type": "markdown",
      "metadata": {
        "id": "79KWyayRp5XY"
      },
      "source": [
        "## 1-2 資料視覺化"
      ]
    },
    {
      "cell_type": "code",
      "metadata": {
        "id": "ulMH23czp5XY"
      },
      "source": [
        "import seaborn as sns\n",
        "import matplotlib.pyplot as plt\n",
        "sns.set(color_codes=True)"
      ],
      "execution_count": null,
      "outputs": []
    },
    {
      "cell_type": "code",
      "metadata": {
        "id": "ytnsd27Rp5Xb"
      },
      "source": [
        "#Distribution Plot\n",
        "plt.figure(figsize=(8,4))\n",
        "plt.title('Distribution of total_price')\n",
        "sns.distplot(train_data['total_price'])"
      ],
      "execution_count": null,
      "outputs": []
    },
    {
      "cell_type": "code",
      "metadata": {
        "id": "SoTMFUNxp5Xe"
      },
      "source": [
        "#Bar Chart\n",
        "#畫出各樓層的平均房價\n",
        "floor_avg_price = train_data.groupby(by='txn_floor').mean()['total_price']\n",
        "floor_avg_price = floor_avg_price.reset_index()\n",
        "floor_avg_price"
      ],
      "execution_count": null,
      "outputs": []
    },
    {
      "cell_type": "code",
      "metadata": {
        "id": "ZLsVtpRNp5Xh"
      },
      "source": [
        "plt.figure(figsize=(12,6))\n",
        "sns.barplot(x=\"txn_floor\", y=\"total_price\", data=floor_avg_price)"
      ],
      "execution_count": null,
      "outputs": []
    },
    {
      "cell_type": "code",
      "metadata": {
        "id": "B573rlzup5Xj"
      },
      "source": [
        "#Pie Chart\n",
        "city_num = train_data.groupby(by='city').count()['total_price'].reset_index()\n",
        "plt.figure(figsize=(12,6))\n",
        "plt.pie(city_num['total_price'], labels=city_num['city'])\n",
        "plt.show()"
      ],
      "execution_count": null,
      "outputs": []
    },
    {
      "cell_type": "code",
      "metadata": {
        "scrolled": true,
        "id": "eE6ldQtCp5Xn"
      },
      "source": [
        "#Box Plot\n",
        "plt.figure(figsize=(16,8))\n",
        "sns.boxplot(x='city', y='total_price', data=train_data)"
      ],
      "execution_count": null,
      "outputs": []
    },
    {
      "cell_type": "markdown",
      "metadata": {
        "id": "MFeTnhW8p5Xp"
      },
      "source": [
        "## 練習：還有什麼欄位可以做資料視覺化？\n",
        "請畫出各縣市的平均房價之長條圖(bar chart)\n",
        "\n",
        "延伸閱讀 <br>\n",
        "- [Pyplot語法教學](https://medium.com/@yuhsuan_chou/python-%E5%9F%BA%E7%A4%8E%E8%B3%87%E6%96%99%E8%A6%96%E8%A6%BA%E5%8C%96-matplotlib-401da7d14e04)\n",
        "- [Seaborn語法教學](https://leemeng.tw/seaborn-cheat-sheet.html?fbclid=IwAR20VuGkd36AM2TSSQ_eJ7Ct9mC5RA7Y_v_a-mqdLMgYdZdO4pD_cxn0NCc)"
      ]
    },
    {
      "cell_type": "code",
      "metadata": {
        "id": "5EooWAymvn2a"
      },
      "source": [
        "#先做出畫圖所需要的表格\n",
        "city_avg_price = train_data.groupby(by='請填入需要的欄位').mean()['total_price']\n",
        "city_avg_price = floor_avg_price.reset_index()\n",
        "city_avg_price "
      ],
      "execution_count": null,
      "outputs": []
    },
    {
      "cell_type": "code",
      "metadata": {
        "id": "1fzLdeiJvrnN"
      },
      "source": [
        "#做出表格後即可製圖\n",
        "plt.figure(figsize=(12,6))\n",
        "sns.barplot(x='請填入需要的欄位', y=\"total_price\", data=city_avg_price)"
      ],
      "execution_count": null,
      "outputs": []
    },
    {
      "cell_type": "markdown",
      "metadata": {
        "id": "7Ucs-GwIp5Xq"
      },
      "source": [
        "<a id='section_02'></a>\n",
        "# <font face=\"微軟正黑體\">UNIT 2 - 建模初體驗</font>\n",
        "<font face=\"微軟正黑體\">\n",
        "    <I>\"Always start with a stupid model, no exceptions\"</I> <br>\n",
        "\n",
        "- 建模流程<br>\n",
        "![ml_process.png](https://i.imgur.com/eSK4LVT.png)\n",
        "\n",
        "- 本單元將使用線性迴歸來建立Baseline Model，快速瞭解建模流程及成效評估\n",
        "</font>"
      ]
    },
    {
      "cell_type": "markdown",
      "metadata": {
        "id": "TZ8aCpftp5Xq"
      },
      "source": [
        "## 2-1 資料前處理\n",
        "1. 空值處理方式\n",
        "\n",
        ">依照業務邏輯/統計方法選擇補值方式\n",
        ">- 補0\n",
        ">- 補中位數 / 平均值 / 眾數\n",
        ">- 剔除變數\n",
        "\n",
        "2. 離群值處理方式\n",
        "\n",
        "> 透過統計值或盒狀圖檢視有無離群值\n",
        ">- 補值\n",
        ">- 另建欄位\n",
        ">- 剔除變數"
      ]
    },
    {
      "cell_type": "code",
      "metadata": {
        "id": "xe9fojIpp5Xr"
      },
      "source": [
        "#共有四個變數有空值\n",
        "print(train_data.count().sort_values().head(10))\n",
        "\n",
        "#將村里收入中位數補上中位數，其餘所有空值的變數補上0\n",
        "train_data['village_income_median'] = train_data['village_income_median'].fillna(np.median(train_data['village_income_median']))\n",
        "test_data['village_income_median'] = test_data['village_income_median'].fillna(np.median(test_data['village_income_median']))\n",
        "train_data = train_data.fillna(0)\n",
        "test_data = test_data.fillna(0)"
      ],
      "execution_count": null,
      "outputs": []
    },
    {
      "cell_type": "markdown",
      "metadata": {
        "id": "MzY7oTeDp5Xu"
      },
      "source": [
        "## 2-2 建立模型\n",
        "\n",
        "使用線性迴歸的優點\n",
        "- 建模速度快、不需複雜計算\n",
        "- 根據係數給出每個因子的解釋"
      ]
    },
    {
      "cell_type": "code",
      "metadata": {
        "id": "neOMfw3np5Xv"
      },
      "source": [
        "#將不需要用來建模的變數拿掉(ID、Y)\n",
        "train_x_baseline = train_data.drop(['total_price', 'building_id'], axis=1)\n",
        "train_y_baseline = train_data['total_price']\n",
        "\n",
        "test_x_baseline = test_data.drop(['total_price', 'building_id'], axis=1)\n",
        "test_y_baseline = test_data['total_price']"
      ],
      "execution_count": null,
      "outputs": []
    },
    {
      "cell_type": "code",
      "metadata": {
        "id": "5RSwYxJbp5Xx"
      },
      "source": [
        "#引用sklearn的線性回歸套件\n",
        "from sklearn.linear_model import LinearRegression\n",
        "\n",
        "# 設定模型與模型參數\n",
        "lr = LinearRegression()\n",
        "\n",
        "# 使用 Train 資料訓練模型\n",
        "lr.fit(train_x_baseline, train_y_baseline)"
      ],
      "execution_count": null,
      "outputs": []
    },
    {
      "cell_type": "markdown",
      "metadata": {
        "id": "41L5_Jd7p5Xz"
      },
      "source": [
        "## 2-3 模型驗證\n",
        "本次模型衡量指標為MAPE\n",
        "\n",
        "<br>\n",
        "\n",
        "<div>\n",
        "<img src=\"https://i.imgur.com/LTP9Y9Q.png\" width=\"400\"/>\n",
        "</div>"
      ]
    },
    {
      "cell_type": "code",
      "metadata": {
        "id": "LqyLcDVwp5Xz"
      },
      "source": [
        "#將test data丟入上個步驟訓練好的模型得出預測結果\n",
        "pred_y = lr.predict(test_x_baseline)"
      ],
      "execution_count": null,
      "outputs": []
    },
    {
      "cell_type": "code",
      "metadata": {
        "id": "vrmzk8Kpp5X3"
      },
      "source": [
        "#建立MAPE的運算公式\n",
        "def mean_absolute_percentage_error(y_true, y_pred): \n",
        "    y_true, y_pred = np.array(y_true), np.array(y_pred)\n",
        "    return np.mean(np.abs((y_true - y_pred) / y_true))"
      ],
      "execution_count": null,
      "outputs": []
    },
    {
      "cell_type": "code",
      "metadata": {
        "id": "2st65uGjp5X6"
      },
      "source": [
        "#建立模型成效的報表\n",
        "def report(y_true, y_pred):\n",
        "\n",
        "    mape = mean_absolute_percentage_error(y_true, y_pred)\n",
        "    print('mape:', mape)\n",
        "    print(\"對於每個物件的預測價格誤差為\", round(mape*100, 2), \"%\")\n",
        "\n",
        "    error_abs = abs((y_true - y_pred) / y_true)\n",
        "\n",
        "    hit10 = 0\n",
        "    for i in error_abs:\n",
        "        if i <= 0.1:\n",
        "            hit10 += 1\n",
        "\n",
        "    hit_rate_10 = hit10/len(error_abs)\n",
        "    print('hitrate10:', hit_rate_10)\n",
        "    print(\"每100個物件中，共有\", round(hit_rate_10*100, 1) ,\"個物件在預測誤差 10% 以內\")\n",
        "\n",
        "    hit20 = 0\n",
        "    for i in error_abs:\n",
        "        if i <= 0.2:\n",
        "            hit20+=1\n",
        "\n",
        "    hit_rate_20 = hit20/len(error_abs)\n",
        "    print('hitrate20:', hit_rate_20)\n",
        "    print(\"每100個物件中，共有\", round(hit_rate_20*100, 1) ,\"個物件在預測誤差 20% 以內\")"
      ],
      "execution_count": null,
      "outputs": []
    },
    {
      "cell_type": "code",
      "metadata": {
        "id": "a4_dMalRp5X8"
      },
      "source": [
        "#得出模型成效\n",
        "report(test_y_baseline, pred_y)"
      ],
      "execution_count": null,
      "outputs": []
    },
    {
      "cell_type": "markdown",
      "metadata": {
        "id": "o7iE1LQtp5YA"
      },
      "source": [
        "<a id='section_03'></a>\n",
        "# UNIT 3 - 特徵工程 (特徵篩選)\n",
        "雜訊太多容易使模型產生更多誤差，先簡單使用相關係數來篩選"
      ]
    },
    {
      "cell_type": "markdown",
      "metadata": {
        "id": "LMd7o_E-p5YC"
      },
      "source": [
        "## 3-1 使用相關係數篩選因子"
      ]
    },
    {
      "cell_type": "code",
      "metadata": {
        "id": "cotIuvcUp5YD"
      },
      "source": [
        "correlations = train_data.corr()['total_price'].sort_values()\n",
        "\n",
        "# 顯示相關係數最大 / 最小的各15個欄位名稱\n",
        "print('Most Positive Correlations:\\n', correlations.tail(11))\n",
        "print(\"=\"*30)\n",
        "print('Most Negative Correlations:\\n', correlations.head(10))"
      ],
      "execution_count": null,
      "outputs": []
    },
    {
      "cell_type": "code",
      "metadata": {
        "id": "7-xE1C_Hp5YJ"
      },
      "source": [
        "#將上列30個變數放入list\n",
        "col = ['V_5000', 'VII_5000', 'jobschool_rate', 'XIII_5000', 'doc_Rate',\n",
        "       'bachelor_rate', 'master_rate', 'parking_price', 'land_area', 'building_area',\n",
        "       'highschool_rate', 'junior_rate', 'elementary_rate', 'divorce_rate', 'parking_way',\n",
        "       'IV_MIN', 'VI_MIN', 'town', 'death_date', 'XIII_MIN']"
      ],
      "execution_count": null,
      "outputs": []
    },
    {
      "cell_type": "markdown",
      "metadata": {
        "id": "Z3SlQIx5p5YM"
      },
      "source": [
        "## 3-2 建立模型"
      ]
    },
    {
      "cell_type": "code",
      "metadata": {
        "id": "w4fv_7abp5YM"
      },
      "source": [
        "#將training data改為篩選後的因子列表\n",
        "train_x = train_data[col]\n",
        "train_y = train_data['total_price']\n",
        "test_x = test_data[col]\n",
        "test_y = test_data['total_price']"
      ],
      "execution_count": null,
      "outputs": []
    },
    {
      "cell_type": "code",
      "metadata": {
        "id": "YOLbbg2kp5YO"
      },
      "source": [
        "from sklearn.linear_model import LinearRegression\n",
        "\n",
        "# 設定模型與模型參數\n",
        "lr = LinearRegression()\n",
        "\n",
        "# 使用 Train 資料訓練模型\n",
        "lr.fit(train_x, train_y)"
      ],
      "execution_count": null,
      "outputs": []
    },
    {
      "cell_type": "markdown",
      "metadata": {
        "id": "PXktrAwxp5YS"
      },
      "source": [
        "## 3-3 模型驗證 (經過因子篩選後)"
      ]
    },
    {
      "cell_type": "code",
      "metadata": {
        "id": "rOuWJBUhp5YS"
      },
      "source": [
        "#將test data丟入上個步驟訓練好的模型得出預測結果\n",
        "pred_y = lr.predict(test_x)"
      ],
      "execution_count": null,
      "outputs": []
    },
    {
      "cell_type": "code",
      "metadata": {
        "id": "0E4qZPB8p5YW"
      },
      "source": [
        "#產生模型評估結果\n",
        "report(test_y, pred_y)"
      ],
      "execution_count": null,
      "outputs": []
    },
    {
      "cell_type": "markdown",
      "metadata": {
        "id": "VHwGpQyrp5YZ"
      },
      "source": [
        "<a id='section_04'></a>\n",
        "# UNIT 4 - 特徵工程(特徵組合)\n",
        "思考一下有哪些因素會影響房價? \n",
        "\n",
        "<br>\n",
        "\n",
        "地點? 風水? 樓層?"
      ]
    },
    {
      "cell_type": "markdown",
      "metadata": {
        "id": "WbmPa4lap5Ya"
      },
      "source": [
        "## 4-1 特徵工程 - 組合出新的因子"
      ]
    },
    {
      "cell_type": "code",
      "metadata": {
        "id": "h2pnC2KGp5Ya"
      },
      "source": [
        "train_data_2 = train_data.copy()\n",
        "#加入\"屋齡\"因子\n",
        "train_data_2['house_age'] = train_data_2['txn_dt'] - train_data_2['building_complete_dt']\n",
        "#加入\"樓層比率\"因子\n",
        "train_data_2['floor_ratio'] = train_data_2['txn_floor'] - train_data_2['total_floor']\n",
        "#加入\"容積率\"因子\n",
        "train_data_2['far'] = train_data_2['txn_floor'] / train_data_2['total_floor']"
      ],
      "execution_count": null,
      "outputs": []
    },
    {
      "cell_type": "markdown",
      "metadata": {
        "id": "o7zKFdrcp5Yc"
      },
      "source": [
        "## 4-2 特徵工程 - 處理資料偏態\n",
        "發現：房價、房屋及土地面積都有嚴重右偏的情形"
      ]
    },
    {
      "cell_type": "code",
      "metadata": {
        "id": "uAcni2Xyp5Yd"
      },
      "source": [
        "plt.figure(figsize=(15, 15))\n",
        "plt.subplot(3, 1, 1)\n",
        "plt.title('building_area')\n",
        "sns.distplot(train_data_2['building_area'])\n",
        "\n",
        "plt.subplot(3, 1, 2)\n",
        "sns.set_style('dark')\n",
        "plt.title('land_area');\n",
        "sns.distplot(train_data_2['land_area'])\n",
        "\n",
        "plt.subplot(3, 1, 3)\n",
        "sns.set_style('dark')\n",
        "plt.title('total_price');\n",
        "sns.distplot(train_data_2['total_price'])"
      ],
      "execution_count": null,
      "outputs": []
    },
    {
      "cell_type": "code",
      "metadata": {
        "id": "Q9wMTkBCp5Yf"
      },
      "source": [
        "train_data_2['log_building_area'] = np.log(train_data_2['building_area'])\n",
        "train_data_2['log_land_area'] = np.log(train_data_2['land_area']+0.1)\n",
        "train_data_2['log_total_price'] = np.log(train_data_2['total_price'])"
      ],
      "execution_count": null,
      "outputs": []
    },
    {
      "cell_type": "markdown",
      "metadata": {
        "id": "9JV0vNFLp5Yj"
      },
      "source": [
        "#### 對於金額類或偏移嚴重的資料，通常會對該欄位取log以消除偏態。"
      ]
    },
    {
      "cell_type": "code",
      "metadata": {
        "id": "paOU7XYMp5Yj"
      },
      "source": [
        "plt.figure(figsize=(15, 15))\n",
        "plt.subplot(3, 1, 1)\n",
        "plt.title('log_building_area')\n",
        "sns.distplot(train_data_2['log_building_area'])\n",
        "\n",
        "plt.subplot(3, 1, 2)\n",
        "sns.set_style('dark')\n",
        "plt.title('log_land_area');\n",
        "sns.distplot(train_data_2['log_land_area'])\n",
        "\n",
        "plt.subplot(3, 1, 3)\n",
        "sns.set_style('dark')\n",
        "plt.title('log_total_price');\n",
        "sns.distplot(train_data_2['log_total_price'])"
      ],
      "execution_count": null,
      "outputs": []
    },
    {
      "cell_type": "markdown",
      "metadata": {
        "id": "H26mEKEzp5Yl"
      },
      "source": [
        "## 4-3 特徵工程-特徵篩選"
      ]
    },
    {
      "cell_type": "code",
      "metadata": {
        "id": "u7S0jKsqp5Ym"
      },
      "source": [
        "#選出相關係數取絕對值後最高的前30名\n",
        "correlations = train_data_2.corr()['log_total_price'].abs().sort_values()\n",
        "correlations.tail(30)"
      ],
      "execution_count": null,
      "outputs": []
    },
    {
      "cell_type": "code",
      "metadata": {
        "id": "jLLFs9BIp5Yo"
      },
      "source": [
        "#加入4-1, 4-2特徵工程新增的因子\n",
        "col = ['house_age', 'floor_ratio', 'far',  'log_land_area', 'log_building_area',\n",
        "       'XIII_5000', 'jobschool_rate', 'bachelor_rate', 'XIII_10000', 'highschool_rate',\n",
        "       'VII_10000', 'elementary_rate', 'IX_10000', 'V_10000', 'master_rate',\n",
        "       'VIII_10000', 'III_10000', 'X_10000', 'XI_10000', 'VI_10000',\n",
        "       'II_10000', 'XII_10000', 'doc_Rate', 'IX_5000', 'VIII_5000',\n",
        "       'parking_price', 'I_10000', 'lon', 'VII_5000', 'V_5000',\n",
        "       'IV_10000', 'txn_dt'\n",
        "      ]\n",
        "\n",
        "#透過業務邏輯加入重要的POI\n",
        "#(II: 各級學校 , XI: 交通設施, XIII: 鄰避設施)\n",
        "poi_list = ['II', \"XI\", \"XIII\"]\n",
        "poi_col = []\n",
        "for i in poi_list:\n",
        "    poi_col.append(f'{i}_10')\n",
        "    poi_col.append(f'{i}_50')\n",
        "    poi_col.append(f'{i}_100')\n",
        "    poi_col.append(f'{i}_250')\n",
        "    poi_col.append(f'{i}_500')\n",
        "    poi_col.append(f'{i}_1000')\n",
        "    poi_col.append(f'{i}_MIN')\n",
        "\n",
        "#將上述兩個list取聯集\n",
        "col_new = set(col).union(set(poi_col))\n",
        "print(\"最終共有\", len(col_new), \"個因子\")"
      ],
      "execution_count": null,
      "outputs": []
    },
    {
      "cell_type": "markdown",
      "metadata": {
        "id": "xdoVWyKcp5Yq"
      },
      "source": [
        "## 4-4 建立模型"
      ]
    },
    {
      "cell_type": "code",
      "metadata": {
        "id": "6XONMMzGp5Yq"
      },
      "source": [
        "#將test data轉換為模型與train data的格式\n",
        "test_data_2 = test_data.copy()\n",
        "test_data_2['house_age'] = test_data_2['txn_dt'] - test_data_2['building_complete_dt']\n",
        "test_data_2['floor_ratio'] = test_data_2['txn_floor'] - test_data_2['total_floor']\n",
        "test_data_2['far'] = test_data_2['txn_floor'] / test_data_2['total_floor']\n",
        "test_data_2['log_building_area'] = np.log(test_data_2['building_area'])\n",
        "test_data_2['log_land_area'] = np.log(test_data_2['land_area']+0.1)\n",
        "test_data_2['log_total_price'] = np.log(test_data_2['total_price'])"
      ],
      "execution_count": null,
      "outputs": []
    },
    {
      "cell_type": "code",
      "metadata": {
        "id": "Jte5kCfpp5Ys"
      },
      "source": [
        "train_x = train_data_2[col_new]\n",
        "train_y = train_data_2['log_total_price']\n",
        "test_x = test_data_2[col_new]\n",
        "test_y = test_data_2['log_total_price']"
      ],
      "execution_count": null,
      "outputs": []
    },
    {
      "cell_type": "code",
      "metadata": {
        "id": "AGozttXhp5Yu"
      },
      "source": [
        "from sklearn.linear_model import LinearRegression\n",
        "\n",
        "# 設定模型與模型參數\n",
        "lr = LinearRegression()\n",
        "\n",
        "# 使用 Train 資料訓練模型\n",
        "lr.fit(train_x, train_y)"
      ],
      "execution_count": null,
      "outputs": []
    },
    {
      "cell_type": "markdown",
      "metadata": {
        "id": "jMz3Np4Ap5Yx"
      },
      "source": [
        "## 4-5 模型驗證"
      ]
    },
    {
      "cell_type": "code",
      "metadata": {
        "id": "eHN_wn6pp5Yy"
      },
      "source": [
        "pred_y = lr.predict(test_x)\n",
        "report(np.exp(test_y), np.exp(pred_y))"
      ],
      "execution_count": null,
      "outputs": []
    },
    {
      "cell_type": "markdown",
      "metadata": {
        "id": "bssAcbqSp5Y5"
      },
      "source": [
        "<a id='section_05'></a>\n",
        "# UNIT 5 - 使用進階模型\n",
        "- 決策樹 Decision Tree\n",
        "- 隨機森林 Random Forest\n",
        "- Light GBM"
      ]
    },
    {
      "cell_type": "code",
      "metadata": {
        "id": "tmaAlPY9p5Y6"
      },
      "source": [
        "#引用模型套件\n",
        "from sklearn.tree import DecisionTreeRegressor\n",
        "from sklearn.ensemble import RandomForestRegressor\n",
        "import lightgbm as lgb"
      ],
      "execution_count": null,
      "outputs": []
    },
    {
      "cell_type": "markdown",
      "metadata": {
        "id": "ZcKm4fFip5Y8"
      },
      "source": [
        "## 5-1 決策樹 Decision Tree\n",
        "\n",
        "- 決策樹簡介\n",
        "> 從訓練資料中找出規則，並使每一次切分資料有最大的訊息增益(Information Gain)\n",
        "\n",
        "![decision_tree.jpeg](https://i.imgur.com/zPfQjxO.jpg)"
      ]
    },
    {
      "cell_type": "code",
      "metadata": {
        "id": "k2670Sv1p5Y8"
      },
      "source": [
        "#建立決策樹模型\n",
        "dt_regr = DecisionTreeRegressor(random_state=13)\n",
        "dt_regr.fit(train_x, train_y)"
      ],
      "execution_count": null,
      "outputs": []
    },
    {
      "cell_type": "markdown",
      "metadata": {
        "id": "BblWYz_sp5Y_"
      },
      "source": [
        "## 5-2 隨機森林 Random Forest\n",
        "\n",
        "- 隨機森林簡介\n",
        "> 分別抽一部分的資料跑決策樹模型，最後再將所有樹的預測結果取平均以得到預測結果。\n",
        "\n",
        "\n",
        "![random_forest.png](https://i.imgur.com/wEiRsle.png)\n",
        "\n",
        "延伸閱讀 <br>\n",
        "- [決策樹(Decision Tree)以及隨機森林(Random Forest)介紹](https://medium.com/jameslearningnote/%E8%B3%87%E6%96%99%E5%88%86%E6%9E%90-%E6%A9%9F%E5%99%A8%E5%AD%B8%E7%BF%92-%E7%AC%AC3-5%E8%AC%9B-%E6%B1%BA%E7%AD%96%E6%A8%B9-decision-tree-%E4%BB%A5%E5%8F%8A%E9%9A%A8%E6%A9%9F%E6%A3%AE%E6%9E%97-random-forest-%E4%BB%8B%E7%B4%B9-7079b0ddfbda)\n",
        "- [機器學習演算法—隨機森林（Random Forest）懶人包](http://hn28082251.blogspot.com/2018/07/random-forest.html)"
      ]
    },
    {
      "cell_type": "code",
      "metadata": {
        "id": "dS6XcJfEp5ZB"
      },
      "source": [
        "#建立隨機森林模型\n",
        "rf_regr = RandomForestRegressor(random_state=13)\n",
        "rf_regr.fit(train_x, train_y)"
      ],
      "execution_count": null,
      "outputs": []
    },
    {
      "cell_type": "markdown",
      "metadata": {
        "id": "Z7u4p3Oqp5ZG"
      },
      "source": [
        "## 5-3 LightGBM\n",
        "\n",
        "- LightGBM簡介\n",
        "> LightGBM是Gradient Boosting Tree的其中一種，而Boosting也是多棵樹集合(Ensemble)的另一種方法。其核心概念是先訓練一棵較簡單的樹，再透過樣本權重分配的方式針對估不準的樣本重新建樹，相較於單一棵決策樹通常有更好的精準度。\n",
        "\n",
        "![lgbm.png](https://i.imgur.com/GXjkWZD.png)\n",
        "\n",
        "\n",
        "延伸閱讀 <br>\n",
        "- [kaggle機器學習競賽神器xgboost介紹](https://medium.com/jameslearningnote/%E8%B3%87%E6%96%99%E5%88%86%E6%9E%90-%E6%A9%9F%E5%99%A8%E5%AD%B8%E7%BF%92-%E7%AC%AC5-2%E8%AC%9B-kaggle%E6%A9%9F%E5%99%A8%E5%AD%B8%E7%BF%92%E7%AB%B6%E8%B3%BD%E7%A5%9E%E5%99%A8xgboost%E4%BB%8B%E7%B4%B9-1c8f55cffcc)\n",
        "- [《決策樹系列》LightGBM模型理論](https://medium.com/@jimmywu0621/%E6%B1%BA%E7%AD%96%E6%A8%B9%E7%B3%BB%E5%88%97-lightgbm%E6%A8%A1%E5%9E%8B%E7%90%86%E8%AB%96-96ce38ea8940)"
      ]
    },
    {
      "cell_type": "code",
      "metadata": {
        "id": "KGxqxBDnp5ZH"
      },
      "source": [
        "lgbm_regr = lgb.LGBMRegressor(random_state=13)\n",
        "lgbm_regr.fit(train_x, train_y)"
      ],
      "execution_count": null,
      "outputs": []
    },
    {
      "cell_type": "markdown",
      "metadata": {
        "id": "yBiaT_s5p5ZL"
      },
      "source": [
        "## 5-4 模型驗證"
      ]
    },
    {
      "cell_type": "markdown",
      "metadata": {
        "id": "7Wi6EuhYp5ZM"
      },
      "source": [
        "### Decision Tree 成效"
      ]
    },
    {
      "cell_type": "code",
      "metadata": {
        "id": "oR0sSeo7p5ZM"
      },
      "source": [
        "pred_y = dt_regr.predict(test_x)\n",
        "report(np.exp(test_y), np.exp(pred_y))"
      ],
      "execution_count": null,
      "outputs": []
    },
    {
      "cell_type": "markdown",
      "metadata": {
        "id": "vn_Ox6Z6p5ZP"
      },
      "source": [
        "## Random Forest 成效"
      ]
    },
    {
      "cell_type": "code",
      "metadata": {
        "id": "ThNjm6N-p5ZT"
      },
      "source": [
        "pred_y = rf_regr.predict(test_x)\n",
        "report(np.exp(test_y), np.exp(pred_y))"
      ],
      "execution_count": null,
      "outputs": []
    },
    {
      "cell_type": "markdown",
      "metadata": {
        "id": "h0YsxY83p5Zb"
      },
      "source": [
        "##  LightGBM 成效"
      ]
    },
    {
      "cell_type": "code",
      "metadata": {
        "id": "siPyh4IIp5Zb"
      },
      "source": [
        "pred_y = lgbm_regr.predict(test_x)\n",
        "report(np.exp(test_y), np.exp(pred_y))"
      ],
      "execution_count": null,
      "outputs": []
    },
    {
      "cell_type": "markdown",
      "metadata": {
        "id": "3KeBjVDRp5Ze"
      },
      "source": [
        "## 5-5 補充：透過模型的feature importance來篩選因子"
      ]
    },
    {
      "cell_type": "code",
      "metadata": {
        "id": "iKcmn7_ep5Zf"
      },
      "source": [
        "feature_importance_lgbm = pd.DataFrame({\"col\": test_x.columns, \"importance\": lgbm_regr.feature_importances_})\n",
        "feature_importance_rf = pd.DataFrame({\"col\": test_x.columns, \"importance\": rf_regr.feature_importances_})"
      ],
      "execution_count": null,
      "outputs": []
    },
    {
      "cell_type": "code",
      "metadata": {
        "id": "9Xqx2_Zfp5Zk"
      },
      "source": [
        "features = feature_importance_rf['col']\n",
        "importances = feature_importance_rf['importance']\n",
        "indices = np.argsort(importances)\n",
        "plt.figure(figsize=(20, 10))\n",
        "plt.title('Random Forest Feature Impor tances')\n",
        "plt.barh(range(len(indices)), importances[indices], color='b', align='center')\n",
        "plt.yticks(range(len(indices)), [features[i] for i in indices])\n",
        "plt.xlabel('Relative Importance')\n",
        "plt.show()"
      ],
      "execution_count": null,
      "outputs": []
    },
    {
      "cell_type": "code",
      "metadata": {
        "id": "f5WsiuoBp5Zn"
      },
      "source": [
        "plt.figure(figsize=(40, 20))\n",
        "lgb.plot_importance(lgbm_regr, max_num_features=30)\n",
        "plt.title(\"LGBM Feature Importance\")\n",
        "plt.show()"
      ],
      "execution_count": null,
      "outputs": []
    },
    {
      "cell_type": "code",
      "metadata": {
        "id": "uBPAiN0xp5Zr"
      },
      "source": [
        "#從中選出在模型內較有影響力的因子\n",
        "col_imp_lgbm = feature_importance_lgbm[feature_importance_lgbm['importance']>=5].col.to_list()\n",
        "col_imp_rf = feature_importance_rf[feature_importance_rf['importance']>=0.0001].col.to_list()"
      ],
      "execution_count": null,
      "outputs": []
    },
    {
      "cell_type": "code",
      "metadata": {
        "id": "ZF7EEUpsp5Zt"
      },
      "source": [
        "train_x2 = train_x[col_imp_rf]\n",
        "train_y2 = train_data_2['log_total_price']\n",
        "test_x2 = test_x[col_imp_rf]\n",
        "test_y2 = test_data_2['log_total_price']"
      ],
      "execution_count": null,
      "outputs": []
    },
    {
      "cell_type": "code",
      "metadata": {
        "id": "TsX2FMf5p5Zw"
      },
      "source": [
        "train_x3 = train_x[col_imp_lgbm]\n",
        "train_y3 = train_data_2['log_total_price']\n",
        "test_x3 = test_x[col_imp_lgbm]\n",
        "test_y3 = test_data_2['log_total_price']"
      ],
      "execution_count": null,
      "outputs": []
    },
    {
      "cell_type": "code",
      "metadata": {
        "jupyter": {
          "outputs_hidden": true
        },
        "id": "5nbEq6Ibp5Z0"
      },
      "source": [
        "rf_regr.fit(train_x2, train_y2)"
      ],
      "execution_count": null,
      "outputs": []
    },
    {
      "cell_type": "code",
      "metadata": {
        "id": "7bbsHggdp5Z4"
      },
      "source": [
        "lgbm_regr.fit(train_x3, train_y3)"
      ],
      "execution_count": null,
      "outputs": []
    },
    {
      "cell_type": "code",
      "metadata": {
        "id": "qnHUavIIp5Z8"
      },
      "source": [
        "pred_y2 = rf_regr.predict(test_x2)\n",
        "report(np.exp(test_y2), np.exp(pred_y2))"
      ],
      "execution_count": null,
      "outputs": []
    },
    {
      "cell_type": "code",
      "metadata": {
        "id": "z-tQsCRZp5aC"
      },
      "source": [
        "pred_y3 = lgbm_regr.predict(test_x3)\n",
        "report(np.exp(test_y3), np.exp(pred_y3))"
      ],
      "execution_count": null,
      "outputs": []
    },
    {
      "cell_type": "markdown",
      "metadata": {
        "id": "5vvP67G1p5aE"
      },
      "source": [
        "<a id='section_06'></a>\n",
        "# 六、超參數調整\n",
        "精進模型的最後一步，使用grid search找出優化模型的參數"
      ]
    },
    {
      "cell_type": "code",
      "metadata": {
        "id": "vtPJwPFxp5aF"
      },
      "source": [
        "#引入參數調整相關套件\n",
        "from sklearn.model_selection import KFold, GridSearchCV"
      ],
      "execution_count": null,
      "outputs": []
    },
    {
      "cell_type": "markdown",
      "metadata": {
        "id": "h4EGZ4RIp5aG"
      },
      "source": [
        "## 6-1 LGBM參數調整"
      ]
    },
    {
      "cell_type": "code",
      "metadata": {
        "id": "mzofCQo6p5aH"
      },
      "source": [
        "#設定要訓練參數組合\n",
        "n_estimators = [100, 300, 500, 1000]\n",
        "max_depth = [-1, 5, 10, 15]\n",
        "learning_rate = [0.01, 0.1, 1]\n",
        "param_grid = dict(n_estimators=n_estimators, max_depth=max_depth, learning_rate=learning_rate)\n",
        "\n",
        "#建立搜尋的物件，放入模型及參數的組合 (n_jobs=-1會使用全部cpu平行運算以加快搜尋速度)\n",
        "grid_search = GridSearchCV(lgbm_regr, param_grid, scoring='neg_mean_absolute_error', n_jobs=-1, verbose=1, cv=5)\n",
        "\n",
        "#開始搜尋最佳參數\n",
        "grid_result = grid_search.fit(train_x3, train_y3)\n",
        "\n",
        "#印出最佳參數組合\n",
        "print(\"Best MAE is:\", grid_result.best_score_, \"The parameters are\", grid_result.best_params_)"
      ],
      "execution_count": null,
      "outputs": []
    },
    {
      "cell_type": "code",
      "metadata": {
        "id": "SuUkVXF1p5aJ"
      },
      "source": [
        "lgbm_regr_opt = lgb.LGBMRegressor(learning_rate=grid_result.best_params_['learning_rate'],\n",
        "                                  max_depth=grid_result.best_params_['max_depth'],\n",
        "                                  n_estimators=grid_result.best_params_['n_estimators'],\n",
        "                                  random_state=13)\n",
        "lgbm_regr_opt.fit(train_x, train_y)"
      ],
      "execution_count": null,
      "outputs": []
    },
    {
      "cell_type": "markdown",
      "metadata": {
        "id": "kzRW2IX8p5aN"
      },
      "source": [
        "pred_y = lgbm_regr_opt.predict(test_x)\n",
        "report(np.exp(test_y), np.exp(pred_y))"
      ]
    },
    {
      "cell_type": "markdown",
      "metadata": {
        "id": "_hEnb_srp5aN"
      },
      "source": [
        "## 6-2 隨機森林參數調整\n",
        "(注意：這個會跑很久，建議自行練習時再執行。)"
      ]
    },
    {
      "cell_type": "code",
      "metadata": {
        "id": "GupLxUMnp5aO"
      },
      "source": [
        "#設定要訓練參數組合\n",
        "n_estimators = [100, 300, 500]\n",
        "max_depth = [None, 3, 5]\n",
        "max_features = ['mse', 'auto', 'log2']\n",
        "param_grid = dict(n_estimators=n_estimators, max_depth=max_depth, max_features=max_features)\n",
        "\n",
        "#建立搜尋的物件，放入模型及參數的組合 (n_jobs=-1會使用全部cpu平行運算以加快搜尋速度)\n",
        "grid_search = GridSearchCV(rf_regr, param_grid, scoring='neg_mean_absolute_error', n_jobs=-1, verbose=1, cv=5)\n",
        "\n",
        "#開始搜尋最佳參數\n",
        "grid_result = grid_search.fit(train_x3, train_y3)\n",
        "\n",
        "#印出最佳參數組合\n",
        "print(\"Best MAE is:\", grid_result.best_score_, \"The parameters are\", grid_result.best_params_)"
      ],
      "execution_count": null,
      "outputs": []
    },
    {
      "cell_type": "code",
      "metadata": {
        "id": "l_qUf0FZp5aS"
      },
      "source": [
        "rf_regr_opt = RandomForestRegressor(max_features=grid_result.best_params_['max_features'],\n",
        "                                    max_depth=grid_result.best_params_['max_depth'],\n",
        "                                    n_estimators=grid_result.best_params_['n_estimators'],\n",
        "                                    random_state=13)\n",
        "rf_regr_opt.fit(train_x, train_y)"
      ],
      "execution_count": null,
      "outputs": []
    },
    {
      "cell_type": "code",
      "metadata": {
        "id": "M4JeYunap5aV"
      },
      "source": [
        "pred_y = rf_regr_opt.predict(test_x)\n",
        "report(np.exp(test_y), np.exp(pred_y))"
      ],
      "execution_count": null,
      "outputs": []
    }
  ]
}